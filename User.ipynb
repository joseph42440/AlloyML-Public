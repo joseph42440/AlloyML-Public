{
 "cells": [
  {
   "cell_type": "code",
   "execution_count": 5,
   "id": "20963143",
   "metadata": {
    "scrolled": false
   },
   "outputs": [
    {
     "data": {
      "application/vnd.jupyter.widget-view+json": {
       "model_id": "04fe77dc5cba4221aa41f693cc878979",
       "version_major": 2,
       "version_minor": 0
      },
      "text/plain": [
       "HBox(children=(VBox(children=(HTML(value='<b>Ranged-based Inputs</b>'), HBox(children=(Label(value='Ag%:', lay…"
      ]
     },
     "metadata": {},
     "output_type": "display_data"
    }
   ],
   "source": [
    "from optimiserGUI import *\n",
    "       \n",
    "mode = \"Mechanical\"\n",
    "GUI_inputs = generateGUI(mode)\n"
   ]
  },
  {
   "cell_type": "code",
   "execution_count": 4,
   "id": "4c3a86bd",
   "metadata": {},
   "outputs": [
    {
     "name": "stdout",
     "output_type": "stream",
     "text": [
      "[Step 0] Best Linear Loss = 0.950197.\n",
      "[Step 1] Best Linear Loss = 0.916347.\n",
      "[Step 2] Best Linear Loss = 0.916347.\n",
      "[Step 3] Best Linear Loss = 0.916347.\n",
      "[Step 4] Best Linear Loss = 0.916347.\n",
      "[Finetune recrystallised] Best Linear Loss = 0.916347.\n",
      "[Finetune temper] Best Linear Loss = 0.916347.\n",
      "[Finetune Ag%] Best Linear Loss = 0.916347.\n",
      "[Finetune Ca%] Best Linear Loss = 0.916347.\n",
      "[Finetune Ce%] Best Linear Loss = 0.916347.\n",
      "[Finetune Cr%] Best Linear Loss = 0.916347.\n",
      "[Finetune Cu%] Best Linear Loss = 0.916347.\n",
      "[Finetune Er%] Best Linear Loss = 0.916347.\n",
      "[Finetune Fe%] Best Linear Loss = 0.916347.\n",
      "[Finetune Ge%] Best Linear Loss = 0.916347.\n",
      "[Finetune Mg%] Best Linear Loss = 0.518985.\n",
      "[Finetune Mn%] Best Linear Loss = 0.518985.\n",
      "[Finetune Nd%] Best Linear Loss = 0.518985.\n",
      "[Finetune Ni%] Best Linear Loss = 0.518985.\n",
      "[Finetune Sc%] Best Linear Loss = 0.518985.\n",
      "[Finetune Si%] Best Linear Loss = 0.518985.\n",
      "[Finetune Sr%] Best Linear Loss = 0.518985.\n",
      "[Finetune Ti%] Best Linear Loss = 0.518985.\n",
      "[Finetune Zn%] Best Linear Loss = 0.518985.\n",
      "[Finetune Zr%] Best Linear Loss = 0.518985.\n",
      "==========Scan Finished==========\n",
      "time(days): 7.0\n",
      "temperature(C): 150.0\n",
      "recrystallised: No\n",
      "temper: Stabilised\n",
      "Al%: 97.0\n",
      "Mg%: 3.0\n",
      "Results in a predicted 10.518985 DoS\n"
     ]
    }
   ],
   "source": [
    "settings = extractSettingsFromGUI(GUI_inputs, mode)\n",
    "models = {\"DoS\": pickle.load(open(\"models/DoS_Model_1619609637.sav\", \"rb\")),}\n",
    "myScan = optimiser(settings, models)\n",
    "myScan.run()"
   ]
  },
  {
   "cell_type": "code",
   "execution_count": null,
   "id": "e3086912",
   "metadata": {},
   "outputs": [],
   "source": []
  },
  {
   "cell_type": "code",
   "execution_count": null,
   "id": "d1fb4165",
   "metadata": {},
   "outputs": [],
   "source": []
  }
 ],
 "metadata": {
  "kernelspec": {
   "display_name": "Python 3",
   "language": "python",
   "name": "python3"
  },
  "language_info": {
   "codemirror_mode": {
    "name": "ipython",
    "version": 3
   },
   "file_extension": ".py",
   "mimetype": "text/x-python",
   "name": "python",
   "nbconvert_exporter": "python",
   "pygments_lexer": "ipython3",
   "version": "3.6.2"
  }
 },
 "nbformat": 4,
 "nbformat_minor": 5
}
