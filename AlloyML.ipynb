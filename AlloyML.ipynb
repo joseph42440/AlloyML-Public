{
  "nbformat": 4,
  "nbformat_minor": 5,
  "metadata": {
    "colab": {
      "name": "User.ipynb",
      "provenance": []
    },
    "kernelspec": {
      "display_name": "Python 3",
      "language": "python",
      "name": "python3"
    },
    "language_info": {
      "codemirror_mode": {
        "name": "ipython",
        "version": 3
      },
      "file_extension": ".py",
      "mimetype": "text/x-python",
      "name": "python",
      "nbconvert_exporter": "python",
      "pygments_lexer": "ipython3",
      "version": "3.6.2"
    }
  },
  "cells": [
    {
      "cell_type": "markdown",
      "metadata": {
        "id": "6NymiBXxcC-H"
      },
      "source": [
        "**AlloyML**\n",
        "Run the box below to start up the GUI."
      ],
      "id": "6NymiBXxcC-H"
    },
    {
      "cell_type": "code",
      "metadata": {
        "id": "CATl2TUJvyMY",
        "scrolled": false,
        "cellView": "form"
      },
      "source": [
        "#@title GUI Startup\n",
        "if 'google.colab' in str(get_ipython()):\n",
        "    !git clone https://github.com/joseph42440/AlloyML_Public &> /dev/null \n",
        "    !pip install scikit-learn==0.24.1 &> /dev/null \n",
        "    from AlloyML_Public.optimiserGUI import *\n",
        "else: \n",
        "    from optimiserGUI import *\n",
        "    \n",
        "generateModeSelectionGUI()"
      ],
      "id": "CATl2TUJvyMY",
      "execution_count": null,
      "outputs": []
    }
  ]
}